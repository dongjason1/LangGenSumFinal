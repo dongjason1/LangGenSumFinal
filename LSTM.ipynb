{
  "nbformat": 4,
  "nbformat_minor": 0,
  "metadata": {
    "colab": {
      "provenance": []
    },
    "kernelspec": {
      "name": "python3",
      "display_name": "Python 3"
    },
    "language_info": {
      "name": "python"
    }
  },
  "cells": [
    {
      "cell_type": "markdown",
      "source": [
        "## Data"
      ],
      "metadata": {
        "id": "is1uZiS_XqkT"
      }
    },
    {
      "cell_type": "code",
      "source": [
        "import pandas as pd"
      ],
      "metadata": {
        "id": "YLxJmSkhQ-uC"
      },
      "execution_count": null,
      "outputs": []
    },
    {
      "cell_type": "code",
      "source": [
        "df = pd.read_csv('users.csv')\n",
        "df.drop('n', axis=1, inplace=True)"
      ],
      "metadata": {
        "id": "NNFv-vC3Sowj"
      },
      "execution_count": null,
      "outputs": []
    },
    {
      "cell_type": "code",
      "source": [
        "# convert users.csv to a text file of usernames separated by newlines\n",
        "# this is safe because usernames cannot contain backslashes\n",
        "df_string = df.sample(n=10000).to_string(index=False, header=False)\n",
        "df_string = df_string.replace(' ', '')"
      ],
      "metadata": {
        "id": "OtcQ0ts1RMi-"
      },
      "execution_count": null,
      "outputs": []
    },
    {
      "cell_type": "code",
      "source": [
        "with open(\"sample.txt\", \"w\") as file:\n",
        "  file.write(df_string)"
      ],
      "metadata": {
        "id": "3a1qlSu6WmTn"
      },
      "execution_count": null,
      "outputs": []
    },
    {
      "cell_type": "code",
      "source": [
        "with open(\"sample.txt\", \"r\") as file:\n",
        "  data = file.read()"
      ],
      "metadata": {
        "id": "dfWIAC91XXZm"
      },
      "execution_count": null,
      "outputs": []
    },
    {
      "cell_type": "markdown",
      "source": [
        "## Model"
      ],
      "metadata": {
        "id": "Ltb_2R7HXtb0"
      }
    },
    {
      "cell_type": "code",
      "execution_count": null,
      "metadata": {
        "id": "e48YbETZ7KtN"
      },
      "outputs": [],
      "source": [
        "from tensorflow.keras.layers import LSTM, Dense, Activation\n",
        "from tensorflow.keras import Sequential\n",
        "from tensorflow.keras.optimizers import RMSprop\n",
        "import numpy as np\n",
        "import tensorflow as tf\n",
        "from tqdm import tqdm\n",
        "import random"
      ]
    },
    {
      "cell_type": "code",
      "source": [
        "# training\n",
        "with open(\"sample.txt\", \"r\") as file:\n",
        "  data = file.read()\n",
        "chars = sorted(list(set(data))) \n",
        "\n",
        "# should be 26 letters, 10 nums, dash, underscore, and newline, 65 total\n",
        "if len(chars) != 65:\n",
        "  raise Exception\n",
        "\n",
        "char_to_int = dict((c,i) for i,c in enumerate(chars))\n",
        "int_to_char = dict((i,c) for i,c in enumerate(chars))\n",
        "\n",
        "print('Number of Chars in Training Data: {}'.format(len(data)))\n",
        "print('Number of Unique Chars: {}'.format(len(chars)))\n"
      ],
      "metadata": {
        "colab": {
          "base_uri": "https://localhost:8080/"
        },
        "id": "9gr5OalaPRYj",
        "outputId": "07c9a754-f333-4282-b363-810fa13ad135"
      },
      "execution_count": null,
      "outputs": [
        {
          "output_type": "stream",
          "name": "stdout",
          "text": [
            "Number of Chars in Training Data: 120246\n",
            "Number of Unique Chars: 65\n"
          ]
        }
      ]
    },
    {
      "cell_type": "code",
      "source": [
        "# convert data into a sequence of characters paired with a target next_char\n",
        "data_length = 10\n",
        "step = 3\n",
        "# Split into feature and target\n",
        "inp = []\n",
        "out = []\n",
        "for i in range(0, len(data) - data_length, step):\n",
        "    inp.append(data[i:i+data_length])\n",
        "    out.append(data[i+data_length])\n",
        "\n",
        "# Vectorize with our char_to_int mapping\n",
        "x = np.zeros((len(inp), data_length, len(chars)), dtype=bool)\n",
        "y = np.zeros((len(out), len(chars)), dtype=bool)\n",
        "for i, sequence in enumerate(inp):\n",
        "    for t, char in enumerate(sequence):\n",
        "        x[i, t, char_to_int[char]] = 1\n",
        "    y[i, char_to_int[out[i]]] = 1"
      ],
      "metadata": {
        "id": "ljia4PC8Yv3y"
      },
      "execution_count": null,
      "outputs": []
    },
    {
      "cell_type": "code",
      "source": [
        "# Model Definition\n",
        "hidden_units = 64\n",
        "model = Sequential()\n",
        "model.add(LSTM(hidden_units, input_shape=(data_length, len(chars))))\n",
        "model.add(Dense(units=len(chars)))\n",
        "model.add(Activation('softmax'))\n",
        "optimizer = RMSprop(learning_rate=0.01)\n",
        "model.compile(loss='categorical_crossentropy',\n",
        "              optimizer=optimizer)"
      ],
      "metadata": {
        "id": "bkcjqi6GtOvo"
      },
      "execution_count": null,
      "outputs": []
    },
    {
      "cell_type": "code",
      "source": [
        "print(\"{}: Number of Documents in Batch: {}\".format(i, len(x)))\n",
        "model.fit(x, y, epochs=8, verbose=1)"
      ],
      "metadata": {
        "colab": {
          "base_uri": "https://localhost:8080/"
        },
        "id": "98awD-GxYyPl",
        "outputId": "bbfeb59f-bf87-4489-ada4-6ec84ee36378"
      },
      "execution_count": null,
      "outputs": [
        {
          "output_type": "stream",
          "name": "stdout",
          "text": [
            "40078: Number of Documents in Batch: 40079\n",
            "Epoch 1/8\n",
            "1253/1253 [==============================] - 12s 8ms/step - loss: 3.1308\n",
            "Epoch 2/8\n",
            "1253/1253 [==============================] - 10s 8ms/step - loss: 2.9643\n",
            "Epoch 3/8\n",
            "1253/1253 [==============================] - 10s 8ms/step - loss: 2.9040\n",
            "Epoch 4/8\n",
            "1253/1253 [==============================] - 10s 8ms/step - loss: 2.8658\n",
            "Epoch 5/8\n",
            "1253/1253 [==============================] - 10s 8ms/step - loss: 2.8262\n",
            "Epoch 6/8\n",
            "1253/1253 [==============================] - 12s 9ms/step - loss: 2.7882\n",
            "Epoch 7/8\n",
            "1253/1253 [==============================] - 11s 9ms/step - loss: 2.7531\n",
            "Epoch 8/8\n",
            "1253/1253 [==============================] - 14s 11ms/step - loss: 2.7283\n"
          ]
        },
        {
          "output_type": "execute_result",
          "data": {
            "text/plain": [
              "<keras.callbacks.History at 0x7f94a5b77c50>"
            ]
          },
          "metadata": {},
          "execution_count": 6
        }
      ]
    },
    {
      "cell_type": "code",
      "source": [
        "# Gets a random seed\n",
        "def get_seed():\n",
        "    seed = \"\"\n",
        "    for i in range(10):\n",
        "        num = random.randint(0,len(chars)-1)\n",
        "        seed += int_to_char[num]\n",
        "    return seed\n",
        "\n",
        "# One hot encodes a string\n",
        "def string_to_vec(string):\n",
        "    vec = np.zeros((1, len(string), len(chars)), dtype=bool)\n",
        "    for t, char in enumerate(string):\n",
        "        vec[0, t, char_to_int[char]] = 1\n",
        "    return vec\n"
      ],
      "metadata": {
        "id": "v2j5zUcxjCLs"
      },
      "execution_count": null,
      "outputs": []
    },
    {
      "cell_type": "code",
      "source": [
        "# Sampling with temperature\n",
        "\n",
        "def sample_temperature(preds, temp):\n",
        "    preds = np.asarray(preds).astype('float64')\n",
        "    preds = np.log(preds) / temp\n",
        "    exp_preds = np.exp(preds)\n",
        "    preds = exp_preds / np.sum(exp_preds)\n",
        "    probas = np.random.multinomial(1, preds, 1)\n",
        "    return np.argmax(probas)\n",
        "\n",
        "# generates a list of names from the model and an initial seed\n",
        "def generate_with_temp(model, seed, num_results=10, temp = 0.7):\n",
        "    generated = []\n",
        "    text = seed\n",
        "    word = seed\n",
        "    while num_results>0:\n",
        "        vec = string_to_vec(text)\n",
        "        preds = model.predict(vec, verbose=0)[0]\n",
        "        predicted = sample_temperature(preds, temp)\n",
        "        character = int_to_char[predicted]\n",
        "        text = text[1:] + character\n",
        "        word += character\n",
        "        if character == '\\n':\n",
        "            num_results -=1\n",
        "            try:\n",
        "              generated.append(word[:-1])\n",
        "            except:\n",
        "              print(word[:-1])\n",
        "            word = \"\"\n",
        "        \n",
        "    return generated"
      ],
      "metadata": {
        "id": "4VHdvRUHRCV3"
      },
      "execution_count": null,
      "outputs": []
    },
    {
      "cell_type": "code",
      "source": [
        "# Let's see some results\n",
        "result = generate_with_temp(model, get_seed(), 10, 0.7)\n",
        "print(result)"
      ],
      "metadata": {
        "colab": {
          "base_uri": "https://localhost:8080/"
        },
        "id": "LjOASdLAYfoa",
        "outputId": "69b26c2e-f728-4380-d6da-0716098a495b"
      },
      "execution_count": null,
      "outputs": [
        {
          "output_type": "stream",
          "name": "stdout",
          "text": [
            "['80uPYw62X9', 'lelesnogoto', 'kearruses_', 'BenninWot', 'Misterroa', 'throwawayback', 'sazzeasin', 'hery12345', 'buynoting_atit', 'ihssted_ogh']\n"
          ]
        }
      ]
    },
    {
      "cell_type": "code",
      "source": [
        "# top k sampling\n",
        "def softmax(z):\n",
        "   return np.exp(z)/sum(np.exp(z))\n",
        "\n",
        "def sample_top_k(preds, k):\n",
        "  k_probs, k_values = tf.math.top_k(preds, k=k, sorted=True)\n",
        "  k_probs = np.asarray(k_probs).astype(\"float32\")\n",
        "  k_values = np.asarray(k_values).astype(\"int32\")\n",
        "  k_probs = softmax(k_probs)\n",
        "  probas = np.random.multinomial(1, k_probs, 1)\n",
        "  return k_values[np.argmax(probas)]\n",
        "\n",
        "def generate_with_top_k(model, seed, num_results=10, k=10):\n",
        "  generated = []\n",
        "  text = seed\n",
        "  word = seed\n",
        "  while num_results > 0:\n",
        "    vec = string_to_vec(text)\n",
        "    preds = model.predict(vec, verbose=0)[0]\n",
        "    predicted = sample_top_k(preds, 10)\n",
        "    character = int_to_char[predicted]\n",
        "    text = text[1:] + character\n",
        "    word += character\n",
        "    if character == '\\n':\n",
        "      num_results-=1\n",
        "      generated.append(word[:-1])\n",
        "      word = \"\"\n",
        "  return generated"
      ],
      "metadata": {
        "id": "dS9gJy3OTDqq"
      },
      "execution_count": null,
      "outputs": []
    },
    {
      "cell_type": "code",
      "source": [
        "result = generate_with_top_k(model, get_seed(), 10, 10)\n",
        "print(result)"
      ],
      "metadata": {
        "colab": {
          "base_uri": "https://localhost:8080/"
        },
        "id": "qn9hZBDEUrfV",
        "outputId": "cd8ab85a-07c5-44b2-bcff-e859c915ed66"
      },
      "execution_count": null,
      "outputs": [
        {
          "output_type": "stream",
          "name": "stdout",
          "text": [
            "['rmodb9jZYG33300304', 'tgantupubatigaisstrly', 'saadtonnes1977779', 'Ththanndagumo', 'airincemst', 'Sooky', 'gllway28540o0803', 'ambmnd181077r4884', 'Scthcon', 'amialim']\n"
          ]
        }
      ]
    },
    {
      "cell_type": "code",
      "source": [
        "# beam search\n",
        "\n",
        "def generate_with_beam_search(model, seed, beam_size=10):\n",
        "  beams = []\n",
        "  seeds = [seed+\"\\n\"] * beam_size\n",
        "  for i, seed in enumerate(seeds):\n",
        "    vec = string_to_vec(seed)\n",
        "    preds = model.predict(vec, verbose=0)[0]\n",
        "    \n",
        "    beams.append()\n",
        "\n",
        "  print(beams)\n",
        "\n",
        "generate_with_beam_search(model, get_seed(), 10)"
      ],
      "metadata": {
        "colab": {
          "base_uri": "https://localhost:8080/"
        },
        "id": "8XGDpFF3TE8m",
        "outputId": "ec4d005d-a4f0-45fa-ebaf-5ecf6dbcf227"
      },
      "execution_count": null,
      "outputs": [
        {
          "output_type": "stream",
          "name": "stdout",
          "text": [
            "['', '', '', '', '', '', '', '', '', '']\n"
          ]
        }
      ]
    },
    {
      "cell_type": "code",
      "source": [],
      "metadata": {
        "id": "Z3VLvMvRShqO"
      },
      "execution_count": null,
      "outputs": []
    }
  ]
}